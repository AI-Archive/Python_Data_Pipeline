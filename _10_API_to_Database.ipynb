{
 "cells": [
  {
   "cell_type": "code",
   "execution_count": 36,
   "metadata": {},
   "outputs": [],
   "source": [
    "import requests\n",
    "from bs4 import BeautifulSoup\n",
    "# from requests.packages.urllib3.exceptions import InsecureRequestWarning\n",
    "from requests.packages.urllib3.exceptions import InsecureRequestWarning"
   ]
  },
  {
   "cell_type": "code",
   "execution_count": 37,
   "metadata": {},
   "outputs": [
    {
     "name": "stdout",
     "output_type": "stream",
     "text": [
      "xml\n"
     ]
    }
   ],
   "source": [
    "import json\n",
    "\n",
    "# Open the JSON file\n",
    "with open('env.json', 'r') as f:\n",
    "  # Load the JSON data into a Python object\n",
    "  data = json.load(f)\n",
    "\n",
    "# Access the data as you would any Python object\n",
    "print(data['type'])"
   ]
  },
  {
   "cell_type": "code",
   "execution_count": 38,
   "metadata": {},
   "outputs": [],
   "source": [
    "def SetURL(**kwargs):\n",
    "    baseURL = 'https://apis.data.go.kr/B551172/Pancreatic14/dtlExamByType?'\n",
    "\n",
    "    url = baseURL\n",
    "\n",
    "    for key, value in kwargs.items():\n",
    "        arg = f'{key}={value}&'\n",
    "        url += arg\n",
    "        # print(f'{key} {value}')\n",
    "\n",
    "    url = url[:-1]\n",
    "    print(url)\n",
    "\n",
    "    return url"
   ]
  },
  {
   "cell_type": "code",
   "execution_count": 39,
   "metadata": {},
   "outputs": [
    {
     "name": "stdout",
     "output_type": "stream",
     "text": [
      "https://apis.data.go.kr/B551172/Pancreatic14/dtlExamByType?serviceKey=2XllO6V1ijRnl0ETNcNfWdg3YL7A8lXiN5AkUrk3S9GHx35m9SyjcfWUxCJSbmXWQh49%2BqdIEIEzpmHxqa481w%3D%3D&type=xml&pageNo=1&numOfRows=10&centerNm=%EA%B5%AD%EB%A6%BD%EC%95%94%EC%84%BC%ED%84%B0&fromYear=2010&toYear=2019\n"
     ]
    },
    {
     "name": "stderr",
     "output_type": "stream",
     "text": [
      "c:\\Users\\rimmo\\anaconda3\\envs\\s32x_final\\lib\\site-packages\\urllib3\\connectionpool.py:1045: InsecureRequestWarning: Unverified HTTPS request is being made to host 'apis.data.go.kr'. Adding certificate verification is strongly advised. See: https://urllib3.readthedocs.io/en/1.26.x/advanced-usage.html#ssl-warnings\n",
      "  warnings.warn(\n"
     ]
    }
   ],
   "source": [
    "url = SetURL(serviceKey=data['serviceKey'],\n",
    "type = data['type'],\n",
    "# pageNo = data['pageNo'],\n",
    "pageNo = 1,\n",
    "# numOfRows = data['numOfRows'],\n",
    "numOfRows = 10,\n",
    "\n",
    "centerNm = data['centerNm'],\n",
    "fromYear = data['fromYear'],\n",
    "toYear = data['toYear'])\n",
    "\n",
    "response = requests.get(url, verify=False)"
   ]
  },
  {
   "cell_type": "code",
   "execution_count": 40,
   "metadata": {},
   "outputs": [
    {
     "name": "stdout",
     "output_type": "stream",
     "text": [
      "<item><statsmetano>20140</statsmetano><centernm>국립암센터</centernm><crityr>2016</crityr><ptage>47</ptage><ptsexcd>M</ptsexcd><statstrgtnm>종양검사</statstrgtnm><ncsnmvl>2</ncsnmvl><wholncsdnmvl>32</wholncsdnmvl><ptcntnmvl>1</ptcntnmvl><wholptcntdnmvl>1</wholptcntdnmvl></item>\n"
     ]
    },
    {
     "name": "stderr",
     "output_type": "stream",
     "text": [
      "c:\\Users\\rimmo\\anaconda3\\envs\\s32x_final\\lib\\site-packages\\bs4\\builder\\__init__.py:545: XMLParsedAsHTMLWarning: It looks like you're parsing an XML document using an HTML parser. If this really is an HTML document (maybe it's XHTML?), you can ignore or filter this warning. If it's XML, you should know that using an XML parser will be more reliable. To parse this document as XML, make sure you have the lxml package installed, and pass the keyword argument `features=\"xml\"` into the BeautifulSoup constructor.\n",
      "  warnings.warn(\n"
     ]
    }
   ],
   "source": [
    "# 1 단일 데이터 레코드에 해당하는 정보 1개를 수집된 데이터에서 가져온다.\n",
    "soup = BeautifulSoup(response.content, 'html.parser')\n",
    "result = soup.find('item')\n",
    "\n",
    "# print(soup)   # 가져온 전체 데이터\n",
    "print(result)   # 전체 데이터 중 하나의 단일 데이터"
   ]
  },
  {
   "cell_type": "code",
   "execution_count": 41,
   "metadata": {},
   "outputs": [
    {
     "name": "stdout",
     "output_type": "stream",
     "text": [
      "\n",
      "id : 20140\n",
      "센터명 : 국립암센터\n",
      "연도 : 2016\n",
      "나이 : 47\n",
      "성별 : M\n",
      "검사명 : 종양검사\n",
      "통계 대상 건수 분자 값 : 2\n",
      "전체 대상 건수 분자 값 : 32\n",
      "환자 수 분자 값 : 1\n",
      "전체 환자 수 분모 값 : 1\n"
     ]
    }
   ],
   "source": [
    "# print(soup)\n",
    "\n",
    "# for data in result:\n",
    "#     # print(1)\n",
    "#     print(data)\n",
    "\n",
    "print()\n",
    "# 2 단일 레코드에 대한 정보 정리 (명시적으로 확인하기 위해 개별 키 접근으로 확인)\n",
    "print('id :', soup.find('statsmetano').text)\n",
    "print('센터명 :', soup.find('centernm').text)\n",
    "print('연도 :', soup.find('crityr').text)\n",
    "print('나이 :',soup.find('ptage').text)\n",
    "print('성별 :', soup.find('ptsexcd').text)\n",
    "print('검사명 :', soup.find('statstrgtnm').text)\n",
    "print('통계 대상 건수 분자 값 :', soup.find('ncsnmvl').text)\n",
    "print('전체 대상 건수 분자 값 :',soup.find('wholncsdnmvl').text)\n",
    "print('환자 수 분자 값 :',soup.find('ptcntnmvl').text)\n",
    "print('전체 환자 수 분모 값 :',soup.find('wholptcntdnmvl').text)\n"
   ]
  },
  {
   "cell_type": "code",
   "execution_count": 42,
   "metadata": {},
   "outputs": [],
   "source": [
    "# 3 위의 결과를 바탕으로 XML 기준 단일 데이터를 딕셔너리로 변환하는 함수를 작성한다.\n",
    "def SetData(item):\n",
    "    _data = {}\n",
    "\n",
    "    _data['statsmetano']=item.find('statsmetano').text\n",
    "    _data['centernm']=item.find('centernm').text\n",
    "    _data['crityr']=item.find('crityr').text\n",
    "    _data['ptage']=item.find('ptage').text\n",
    "    _data['ptsexcd']=item.find('ptsexcd').text\n",
    "    _data['statstrgtnm']=item.find('statstrgtnm').text\n",
    "    _data['ncsnmvl']=item.find('ncsnmvl').text\n",
    "    _data['wholncsdnmvl']=item.find('wholncsdnmvl').text\n",
    "    _data['ptcntnmvl']=item.find('ptcntnmvl').text\n",
    "    _data['wholptcntdnmvl']=item.find('wholptcntdnmvl').text\n",
    "    \n",
    "    return _data"
   ]
  },
  {
   "cell_type": "code",
   "execution_count": 43,
   "metadata": {},
   "outputs": [
    {
     "name": "stdout",
     "output_type": "stream",
     "text": [
      "[<item><statsmetano>20140</statsmetano><centernm>국립암센터</centernm><crityr>2016</crityr><ptage>47</ptage><ptsexcd>M</ptsexcd><statstrgtnm>종양검사</statstrgtnm><ncsnmvl>2</ncsnmvl><wholncsdnmvl>32</wholncsdnmvl><ptcntnmvl>1</ptcntnmvl><wholptcntdnmvl>1</wholptcntdnmvl></item>, <item><statsmetano>20140</statsmetano><centernm>국립암센터</centernm><crityr>2018</crityr><ptage>47</ptage><ptsexcd>M</ptsexcd><statstrgtnm>일반화학검사</statstrgtnm><ncsnmvl>28</ncsnmvl><wholncsdnmvl>98</wholncsdnmvl><ptcntnmvl>2</ptcntnmvl><wholptcntdnmvl>4</wholptcntdnmvl></item>, <item><statsmetano>20140</statsmetano><centernm>국립암센터</centernm><crityr>2019</crityr><ptage>45</ptage><ptsexcd>M</ptsexcd><statstrgtnm>종양검사</statstrgtnm><ncsnmvl>5</ncsnmvl><wholncsdnmvl>49</wholncsdnmvl><ptcntnmvl>2</ptcntnmvl><wholptcntdnmvl>2</wholptcntdnmvl></item>, <item><statsmetano>20140</statsmetano><centernm>국립암센터</centernm><crityr>2017</crityr><ptage>83</ptage><ptsexcd>M</ptsexcd><statstrgtnm>내분비진단검사</statstrgtnm><ncsnmvl>1</ncsnmvl><wholncsdnmvl>53</wholncsdnmvl><ptcntnmvl>1</ptcntnmvl><wholptcntdnmvl>3</wholptcntdnmvl></item>, <item><statsmetano>20140</statsmetano><centernm>국립암센터</centernm><crityr>2019</crityr><ptage>82</ptage><ptsexcd>M</ptsexcd><statstrgtnm>일반화학검사</statstrgtnm><ncsnmvl>10</ncsnmvl><wholncsdnmvl>29</wholncsdnmvl><ptcntnmvl>1</ptcntnmvl><wholptcntdnmvl>2</wholptcntdnmvl></item>, <item><statsmetano>20140</statsmetano><centernm>국립암센터</centernm><crityr>2015</crityr><ptage>87</ptage><ptsexcd>F</ptsexcd><statstrgtnm>감염검사</statstrgtnm><ncsnmvl>4</ncsnmvl><wholncsdnmvl>31</wholncsdnmvl><ptcntnmvl>1</ptcntnmvl><wholptcntdnmvl>1</wholptcntdnmvl></item>, <item><statsmetano>20140</statsmetano><centernm>국립암센터</centernm><crityr>2010</crityr><ptage>49</ptage><ptsexcd>F</ptsexcd><statstrgtnm>일반화학검사</statstrgtnm><ncsnmvl>10</ncsnmvl><wholncsdnmvl>31</wholncsdnmvl><ptcntnmvl>1</ptcntnmvl><wholptcntdnmvl>1</wholptcntdnmvl></item>, <item><statsmetano>20140</statsmetano><centernm>국립암센터</centernm><crityr>2014</crityr><ptage>65</ptage><ptsexcd>F</ptsexcd><statstrgtnm>내분비진단검사</statstrgtnm><ncsnmvl>3</ncsnmvl><wholncsdnmvl>107</wholncsdnmvl><ptcntnmvl>2</ptcntnmvl><wholptcntdnmvl>3</wholptcntdnmvl></item>, <item><statsmetano>20140</statsmetano><centernm>국립암센터</centernm><crityr>2018</crityr><ptage>81</ptage><ptsexcd>F</ptsexcd><statstrgtnm>내분비진단검사</statstrgtnm><ncsnmvl>3</ncsnmvl><wholncsdnmvl>30</wholncsdnmvl><ptcntnmvl>1</ptcntnmvl><wholptcntdnmvl>4</wholptcntdnmvl></item>, <item><statsmetano>20140</statsmetano><centernm>국립암센터</centernm><crityr>2016</crityr><ptage>77</ptage><ptsexcd>F</ptsexcd><statstrgtnm>감염검사</statstrgtnm><ncsnmvl>10</ncsnmvl><wholncsdnmvl>167</wholncsdnmvl><ptcntnmvl>2</ptcntnmvl><wholptcntdnmvl>5</wholptcntdnmvl></item>]\n"
     ]
    }
   ],
   "source": [
    "# 4 전체 데이터에서 데이터 리스트를 수집한다.\n",
    "# 1 단일 데이터 레코드에 해당하는 정보 1개를 수집된 데이터에서 가져온다.\n",
    "soup = BeautifulSoup(response.content, 'html.parser')\n",
    "results = soup.find_all('item')\n",
    "\n",
    "# print(soup)   # 가져온 전체 데이터\n",
    "print(results)   # 전체 데이터에서 수집한 데이터 리스트"
   ]
  },
  {
   "cell_type": "code",
   "execution_count": 59,
   "metadata": {},
   "outputs": [
    {
     "name": "stdout",
     "output_type": "stream",
     "text": [
      "--------------------\n",
      "0 {'statsmetano': '20140', 'centernm': '국립암센터', 'crityr': '2016', 'ptage': '47', 'ptsexcd': 'M', 'statstrgtnm': '종양검사', 'ncsnmvl': '2', 'wholncsdnmvl': '32', 'ptcntnmvl': '1', 'wholptcntdnmvl': '1'}\n",
      "--------------------\n",
      "--------------------\n",
      "1 {'statsmetano': '20140', 'centernm': '국립암센터', 'crityr': '2018', 'ptage': '47', 'ptsexcd': 'M', 'statstrgtnm': '일반화학검사', 'ncsnmvl': '28', 'wholncsdnmvl': '98', 'ptcntnmvl': '2', 'wholptcntdnmvl': '4'}\n",
      "--------------------\n",
      "--------------------\n",
      "2 {'statsmetano': '20140', 'centernm': '국립암센터', 'crityr': '2019', 'ptage': '45', 'ptsexcd': 'M', 'statstrgtnm': '종양검사', 'ncsnmvl': '5', 'wholncsdnmvl': '49', 'ptcntnmvl': '2', 'wholptcntdnmvl': '2'}\n",
      "--------------------\n",
      "--------------------\n",
      "3 {'statsmetano': '20140', 'centernm': '국립암센터', 'crityr': '2017', 'ptage': '83', 'ptsexcd': 'M', 'statstrgtnm': '내분비진단검사', 'ncsnmvl': '1', 'wholncsdnmvl': '53', 'ptcntnmvl': '1', 'wholptcntdnmvl': '3'}\n",
      "--------------------\n",
      "--------------------\n",
      "4 {'statsmetano': '20140', 'centernm': '국립암센터', 'crityr': '2019', 'ptage': '82', 'ptsexcd': 'M', 'statstrgtnm': '일반화학검사', 'ncsnmvl': '10', 'wholncsdnmvl': '29', 'ptcntnmvl': '1', 'wholptcntdnmvl': '2'}\n",
      "--------------------\n",
      "--------------------\n",
      "5 {'statsmetano': '20140', 'centernm': '국립암센터', 'crityr': '2015', 'ptage': '87', 'ptsexcd': 'F', 'statstrgtnm': '감염검사', 'ncsnmvl': '4', 'wholncsdnmvl': '31', 'ptcntnmvl': '1', 'wholptcntdnmvl': '1'}\n",
      "--------------------\n",
      "--------------------\n",
      "6 {'statsmetano': '20140', 'centernm': '국립암센터', 'crityr': '2010', 'ptage': '49', 'ptsexcd': 'F', 'statstrgtnm': '일반화학검사', 'ncsnmvl': '10', 'wholncsdnmvl': '31', 'ptcntnmvl': '1', 'wholptcntdnmvl': '1'}\n",
      "--------------------\n",
      "--------------------\n",
      "7 {'statsmetano': '20140', 'centernm': '국립암센터', 'crityr': '2014', 'ptage': '65', 'ptsexcd': 'F', 'statstrgtnm': '내분비진단검사', 'ncsnmvl': '3', 'wholncsdnmvl': '107', 'ptcntnmvl': '2', 'wholptcntdnmvl': '3'}\n",
      "--------------------\n",
      "--------------------\n",
      "8 {'statsmetano': '20140', 'centernm': '국립암센터', 'crityr': '2018', 'ptage': '81', 'ptsexcd': 'F', 'statstrgtnm': '내분비진단검사', 'ncsnmvl': '3', 'wholncsdnmvl': '30', 'ptcntnmvl': '1', 'wholptcntdnmvl': '4'}\n",
      "--------------------\n",
      "--------------------\n",
      "9 {'statsmetano': '20140', 'centernm': '국립암센터', 'crityr': '2016', 'ptage': '77', 'ptsexcd': 'F', 'statstrgtnm': '감염검사', 'ncsnmvl': '10', 'wholncsdnmvl': '167', 'ptcntnmvl': '2', 'wholptcntdnmvl': '5'}\n",
      "--------------------\n",
      "{'0': {'statsmetano': '20140', 'centernm': '국립암센터', 'crityr': '2016', 'ptage': '47', 'ptsexcd': 'M', 'statstrgtnm': '종양검사', 'ncsnmvl': '2', 'wholncsdnmvl': '32', 'ptcntnmvl': '1', 'wholptcntdnmvl': '1'}, '1': {'statsmetano': '20140', 'centernm': '국립암센터', 'crityr': '2018', 'ptage': '47', 'ptsexcd': 'M', 'statstrgtnm': '일반화학검사', 'ncsnmvl': '28', 'wholncsdnmvl': '98', 'ptcntnmvl': '2', 'wholptcntdnmvl': '4'}, '2': {'statsmetano': '20140', 'centernm': '국립암센터', 'crityr': '2019', 'ptage': '45', 'ptsexcd': 'M', 'statstrgtnm': '종양검사', 'ncsnmvl': '5', 'wholncsdnmvl': '49', 'ptcntnmvl': '2', 'wholptcntdnmvl': '2'}, '3': {'statsmetano': '20140', 'centernm': '국립암센터', 'crityr': '2017', 'ptage': '83', 'ptsexcd': 'M', 'statstrgtnm': '내분비진단검사', 'ncsnmvl': '1', 'wholncsdnmvl': '53', 'ptcntnmvl': '1', 'wholptcntdnmvl': '3'}, '4': {'statsmetano': '20140', 'centernm': '국립암센터', 'crityr': '2019', 'ptage': '82', 'ptsexcd': 'M', 'statstrgtnm': '일반화학검사', 'ncsnmvl': '10', 'wholncsdnmvl': '29', 'ptcntnmvl': '1', 'wholptcntdnmvl': '2'}, '5': {'statsmetano': '20140', 'centernm': '국립암센터', 'crityr': '2015', 'ptage': '87', 'ptsexcd': 'F', 'statstrgtnm': '감염검사', 'ncsnmvl': '4', 'wholncsdnmvl': '31', 'ptcntnmvl': '1', 'wholptcntdnmvl': '1'}, '6': {'statsmetano': '20140', 'centernm': '국립암센터', 'crityr': '2010', 'ptage': '49', 'ptsexcd': 'F', 'statstrgtnm': '일반화학검사', 'ncsnmvl': '10', 'wholncsdnmvl': '31', 'ptcntnmvl': '1', 'wholptcntdnmvl': '1'}, '7': {'statsmetano': '20140', 'centernm': '국립암센터', 'crityr': '2014', 'ptage': '65', 'ptsexcd': 'F', 'statstrgtnm': '내분비진단검사', 'ncsnmvl': '3', 'wholncsdnmvl': '107', 'ptcntnmvl': '2', 'wholptcntdnmvl': '3'}, '8': {'statsmetano': '20140', 'centernm': '국립암센터', 'crityr': '2018', 'ptage': '81', 'ptsexcd': 'F', 'statstrgtnm': '내분비진단검사', 'ncsnmvl': '3', 'wholncsdnmvl': '30', 'ptcntnmvl': '1', 'wholptcntdnmvl': '4'}, '9': {'statsmetano': '20140', 'centernm': '국립암센터', 'crityr': '2016', 'ptage': '77', 'ptsexcd': 'F', 'statstrgtnm': '감염검사', 'ncsnmvl': '10', 'wholncsdnmvl': '167', 'ptcntnmvl': '2', 'wholptcntdnmvl': '5'}}\n"
     ]
    }
   ],
   "source": [
    "# 5 데이터를 잘 받아오는지 확인하고 하나의 딕셔너리로 통합한다\n",
    "dics = {}\n",
    "\n",
    "for i, _data in enumerate(results):\n",
    "    print('-'*20)\n",
    "    dic = SetData(_data)\n",
    "    print(i, dic)\n",
    "    dics[str(i)] = dic\n",
    "    print('-'*20)\n",
    "\n",
    "print(dics)"
   ]
  },
  {
   "cell_type": "code",
   "execution_count": 62,
   "metadata": {},
   "outputs": [],
   "source": [
    "# 6-0 mongoDB URI 설정하는 함수 \n",
    "def SetMondoDB_URI():\n",
    "    # print(data)\n",
    "    _url = f\"mongodb+srv://{data['USER']}:{data['PASSWORD']}@{data['HOST']}/{data['DATABASE_NAME']}?retryWrites=true&w=majority\"\n",
    "    # print(_url)\n",
    "\n",
    "    return _url\n",
    "\n",
    "mongodbURI = SetMondoDB_URI()"
   ]
  },
  {
   "cell_type": "code",
   "execution_count": 66,
   "metadata": {},
   "outputs": [],
   "source": [
    "# 6 정렬된 데이터를 mongoDB에 저장한다.\n",
    "from pymongo import MongoClient\n",
    "\n",
    "client = MongoClient(mongodbURI)\n",
    "\n",
    "database = client[data['DATABASE_NAME']]\n",
    "\n",
    "collection = database[data['COLLECTION_NAME']]\n",
    "\n",
    "collection.drop()\n",
    "\n",
    "collection.insert_one({\"id\": dics})\n",
    "\n",
    "client.close()"
   ]
  }
 ],
 "metadata": {
  "kernelspec": {
   "display_name": "s32x_final",
   "language": "python",
   "name": "python3"
  },
  "language_info": {
   "codemirror_mode": {
    "name": "ipython",
    "version": 3
   },
   "file_extension": ".py",
   "mimetype": "text/x-python",
   "name": "python",
   "nbconvert_exporter": "python",
   "pygments_lexer": "ipython3",
   "version": "3.8.15"
  },
  "orig_nbformat": 4,
  "vscode": {
   "interpreter": {
    "hash": "81639b6c4dc76e4b2806f719b019c50bfad3d50afe67f35bcd7e68dd9d27d628"
   }
  }
 },
 "nbformat": 4,
 "nbformat_minor": 2
}
