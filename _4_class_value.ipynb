{
 "cells": [
  {
   "cell_type": "code",
   "execution_count": 3,
   "metadata": {},
   "outputs": [],
   "source": [
    "class nClass1:\n",
    "    value1 = \"value1\""
   ]
  },
  {
   "cell_type": "code",
   "execution_count": null,
   "metadata": {},
   "outputs": [],
   "source": [
    "# self의 경우 클래스 영역에서 바로 사용 불가능\n",
    "class nClass2:\n",
    "    self.value2 = \"value2\""
   ]
  },
  {
   "cell_type": "code",
   "execution_count": 3,
   "metadata": {},
   "outputs": [],
   "source": [
    "class nClass3:\n",
    "    def __init__(self) -> None:\n",
    "        # self는 self가 주어진 메서드에서 사용 가능하다.\n",
    "        self.value3 = \"value3\"\n"
   ]
  },
  {
   "cell_type": "code",
   "execution_count": 19,
   "metadata": {},
   "outputs": [
    {
     "name": "stdout",
     "output_type": "stream",
     "text": [
      "value1\n"
     ]
    }
   ],
   "source": [
    "# self(인스턴스)에 붙지 않은 변수는 클래스 정의 영역에서 바로 접근 가능하다.\n",
    "print(nClass1.value1)"
   ]
  },
  {
   "cell_type": "code",
   "execution_count": 4,
   "metadata": {},
   "outputs": [
    {
     "name": "stdout",
     "output_type": "stream",
     "text": [
      "value1\n",
      "value1 \n",
      "\n",
      "Hello\n",
      "Hello \n",
      "\n",
      "Hello\n",
      "Python \n",
      "\n",
      "new value\n",
      "Python \n",
      "\n"
     ]
    }
   ],
   "source": [
    "nClass1.value1 = \"value1\"\n",
    "\n",
    "# self(인스턴스)에 붙지 않은 클래스 변수라도 인스턴스에서 접근 가능하다.\n",
    "inst1 = nClass1()\n",
    "print(nClass1.value1)\n",
    "print(inst1.value1, \"\\n\")\n",
    "\n",
    "a = 123.0\n",
    "\n",
    "# 클래스 변수의 값이 변경되더라도 \n",
    "# 인스턴스에서 클래스 값 호출시 나오는 값은 변경된 클래스 변수와 동일하게 출력된다.\n",
    "# 즉, 전역(Global) 변수와 같이 사용된다.\n",
    "nClass1.value1 = \"Hello\"\n",
    "print(nClass1.value1)\n",
    "print(inst1.value1, \"\\n\")\n",
    "\n",
    "# 인스턴스 레벨에서 변수의 값이 변경되면\n",
    "# 클래스 변수 출력시 나오는 데이터는 서로 다르게 된다.\n",
    "# 인스턴스에 새 변수 'value1'이 생성되는 방식\n",
    "inst1.value1 = \"Python\"\n",
    "print(nClass1.value1)\n",
    "print(inst1.value1, \"\\n\")\n",
    "\n",
    "# 이제 클래스 변수에 새 값을 할당해본다.\n",
    "# 클래스 변수의 값을 확인해보니 인스턴스 값은 변하지 않았다.\n",
    "# 지금 상태에서 클래스 변수와 인스턴스 변수는 이름은 같지만 저장 위치는 달라진 점을 알 수 있다.\n",
    "nClass1.value1 = \"new value\"\n",
    "print(nClass1.value1)\n",
    "print(inst1.value1, \"\\n\")"
   ]
  },
  {
   "cell_type": "code",
   "execution_count": null,
   "metadata": {},
   "outputs": [],
   "source": []
  }
 ],
 "metadata": {
  "kernelspec": {
   "display_name": "base",
   "language": "python",
   "name": "python3"
  },
  "language_info": {
   "codemirror_mode": {
    "name": "ipython",
    "version": 3
   },
   "file_extension": ".py",
   "mimetype": "text/x-python",
   "name": "python",
   "nbconvert_exporter": "python",
   "pygments_lexer": "ipython3",
   "version": "3.9.15"
  },
  "orig_nbformat": 4,
  "vscode": {
   "interpreter": {
    "hash": "1bacc43f3a5794ff21941cbe3bd67ad18cddb0ff963b4f1013ddec33c94b376d"
   }
  }
 },
 "nbformat": 4,
 "nbformat_minor": 2
}
