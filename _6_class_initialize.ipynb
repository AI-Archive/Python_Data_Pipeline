{
 "cells": [
  {
   "cell_type": "code",
   "execution_count": 1,
   "metadata": {},
   "outputs": [],
   "source": [
    "class Parent:\n",
    "    def __init__(self):\n",
    "        print(\"부모 클래스 생성자 영역\")"
   ]
  },
  {
   "cell_type": "code",
   "execution_count": 8,
   "metadata": {},
   "outputs": [],
   "source": [
    "class Child1(Parent):\n",
    "    \"\"\" 생성자를 작성하지 않은 자식 클래스 \"\"\""
   ]
  },
  {
   "cell_type": "code",
   "execution_count": 3,
   "metadata": {},
   "outputs": [],
   "source": [
    "class Child2(Parent):\n",
    "    \"\"\" 생성자 정의와 부모 클래스 생성자를 작성한 클래스 \"\"\"\n",
    "    def __init__(self):\n",
    "        super().__init__()\n",
    "        print(\"자식 클래스 생성자 영역\")"
   ]
  },
  {
   "cell_type": "code",
   "execution_count": 4,
   "metadata": {},
   "outputs": [],
   "source": [
    "class Child3(Parent):\n",
    "    \"\"\" 생성자 정의, 부모 클래스 생성자 작성하지 않음 \"\"\"\n",
    "    def __init__(self):\n",
    "        # super().__init__()\n",
    "        print(\"자식 클래스 생성자 영역\")"
   ]
  },
  {
   "cell_type": "code",
   "execution_count": 5,
   "metadata": {},
   "outputs": [
    {
     "name": "stdout",
     "output_type": "stream",
     "text": [
      "부모 클래스 생성자 영역\n"
     ]
    }
   ],
   "source": [
    "par = Parent()"
   ]
  },
  {
   "cell_type": "code",
   "execution_count": 10,
   "metadata": {},
   "outputs": [
    {
     "name": "stdout",
     "output_type": "stream",
     "text": [
      "부모 클래스 생성자 영역\n",
      "Hello Python\n"
     ]
    }
   ],
   "source": [
    "chi1 = Child1()\n",
    "chi1.Hello()"
   ]
  },
  {
   "cell_type": "code",
   "execution_count": 7,
   "metadata": {},
   "outputs": [
    {
     "name": "stdout",
     "output_type": "stream",
     "text": [
      "부모 클래스 생성자 영역\n",
      "자식 클래스 생성자 영역\n"
     ]
    }
   ],
   "source": [
    "chi2 = Child2()"
   ]
  },
  {
   "cell_type": "code",
   "execution_count": 17,
   "metadata": {},
   "outputs": [
    {
     "name": "stdout",
     "output_type": "stream",
     "text": [
      "자식 클래스 생성자 영역\n"
     ]
    }
   ],
   "source": [
    "chi3 = Child3()"
   ]
  },
  {
   "cell_type": "code",
   "execution_count": null,
   "metadata": {},
   "outputs": [],
   "source": []
  }
 ],
 "metadata": {
  "kernelspec": {
   "display_name": "s32x_final",
   "language": "python",
   "name": "python3"
  },
  "language_info": {
   "codemirror_mode": {
    "name": "ipython",
    "version": 3
   },
   "file_extension": ".py",
   "mimetype": "text/x-python",
   "name": "python",
   "nbconvert_exporter": "python",
   "pygments_lexer": "ipython3",
   "version": "3.8.15"
  },
  "orig_nbformat": 4,
  "vscode": {
   "interpreter": {
    "hash": "81639b6c4dc76e4b2806f719b019c50bfad3d50afe67f35bcd7e68dd9d27d628"
   }
  }
 },
 "nbformat": 4,
 "nbformat_minor": 2
}
