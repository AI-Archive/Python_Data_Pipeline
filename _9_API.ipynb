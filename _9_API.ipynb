{
 "cells": [
  {
   "attachments": {},
   "cell_type": "markdown",
   "metadata": {},
   "source": [
    "### N323 API 오후 세션 : 국립암센터 API\n",
    "https://www.data.go.kr/data/15096405/openapi.do"
   ]
  },
  {
   "cell_type": "code",
   "execution_count": 17,
   "metadata": {},
   "outputs": [],
   "source": [
    "import requests\n",
    "from bs4 import BeautifulSoup\n",
    "# from requests.packages.urllib3.exceptions import InsecureRequestWarning\n",
    "from requests.packages.urllib3.exceptions import InsecureRequestWarning\n"
   ]
  },
  {
   "cell_type": "code",
   "execution_count": 18,
   "metadata": {},
   "outputs": [],
   "source": [
    "def SetURL(**kwargs):\n",
    "    baseURL = 'https://apis.data.go.kr/B551172/Pancreatic14/dtlExamByType?'\n",
    "\n",
    "    url = baseURL\n",
    "\n",
    "    for key, value in kwargs.items():\n",
    "        arg = f'{key}={value}&'\n",
    "        url += arg\n",
    "        # print(f'{key} {value}')\n",
    "\n",
    "    url = url[:-1]\n",
    "    # print(url)\n",
    "\n",
    "    return url"
   ]
  },
  {
   "cell_type": "code",
   "execution_count": 19,
   "metadata": {},
   "outputs": [
    {
     "name": "stdout",
     "output_type": "stream",
     "text": [
      "https://apis.data.go.kr/B551172/Pancreatic14/dtlExamByType?serviceKey=2XllO6V1ijRnl0ETNcNfWdg3YL7A8lXiN5AkUrk3S9GHx35m9SyjcfWUxCJSbmXWQh49%2BqdIEIEzpmHxqa481w%3D%3D&type=xml&pageNo=3999&numOfRows=1&centerNm=%EA%B5%AD%EB%A6%BD%EC%95%94%EC%84%BC%ED%84%B0&fromYear=2010&toYear=2019\n"
     ]
    }
   ],
   "source": [
    "url = SetURL(serviceKey='2XllO6V1ijRnl0ETNcNfWdg3YL7A8lXiN5AkUrk3S9GHx35m9SyjcfWUxCJSbmXWQh49%2BqdIEIEzpmHxqa481w%3D%3D',\n",
    "type = 'xml',\n",
    "pageNo = '3999',\n",
    "numOfRows = '1',\n",
    "centerNm = '%EA%B5%AD%EB%A6%BD%EC%95%94%EC%84%BC%ED%84%B0',\n",
    "fromYear = '2010',\n",
    "toYear = '2019')\n",
    "\n",
    "print(url)"
   ]
  },
  {
   "cell_type": "code",
   "execution_count": 78,
   "metadata": {},
   "outputs": [],
   "source": [
    "# url = 'https://apis.data.go.kr/B551172/Pancreatic14/dtlExamByType'\n",
    "# url = 'https://apis.data.go.kr/B551172/Pancreatic14/dtlExamByType?serviceKey=2XllO6V1ijRnl0ETNcNfWdg3YL7A8lXiN5AkUrk3S9GHx35m9SyjcfWUxCJSbmXWQh49%2BqdIEIEzpmHxqa481w%3D%3D&type=json'\n",
    "url = 'https://apis.data.go.kr/B551172/Pancreatic14/dtlExamByType?serviceKey=2XllO6V1ijRnl0ETNcNfWdg3YL7A8lXiN5AkUrk3S9GHx35m9SyjcfWUxCJSbmXWQh49%2BqdIEIEzpmHxqa481w%3D%3D&type=json&pageNo=1&numOfRows=10&centerNm=%EA%B5%AD%EB%A6%BD%EC%95%94%EC%84%BC%ED%84%B0&fromYear=2010&toYear=2019'\n",
    "params = {'serviceKey':'2XllO6V1ijRnl0ETNcNfWdg3YL7A8lXiN5AkUrk3S9GHx35m9SyjcfWUxCJSbmXWQh49%2BqdIEIEzpmHxqa481w%3D%3D', 'type': 'xml'}\n",
    "# params = {'serviceKey' : '2XllO6V1ijRnl0ETNcNfWdg3YL7A8lXiN5AkUrk3S9GHx35m9SyjcfWUxCJSbmXWQh49%2BqdIEIEzpmHxqa481w%3D%3D',\n",
    "# 'type' : 'xml',\n",
    "# 'pageNo' : '3999',\n",
    "# 'numOfRows' : '1',\n",
    "# 'centerNm' : '%EA%B5%AD%EB%A6%BD%EC%95%94%EC%84%BC%ED%84%B0',\n",
    "# 'fromYear' : '2010',\n",
    "# 'toYear' : '2019'}"
   ]
  },
  {
   "cell_type": "code",
   "execution_count": 20,
   "metadata": {},
   "outputs": [
    {
     "name": "stderr",
     "output_type": "stream",
     "text": [
      "c:\\Users\\rimmo\\anaconda3\\envs\\s32x_final\\lib\\site-packages\\urllib3\\connectionpool.py:1045: InsecureRequestWarning: Unverified HTTPS request is being made to host 'apis.data.go.kr'. Adding certificate verification is strongly advised. See: https://urllib3.readthedocs.io/en/1.26.x/advanced-usage.html#ssl-warnings\n",
      "  warnings.warn(\n"
     ]
    },
    {
     "name": "stdout",
     "output_type": "stream",
     "text": [
      "<?xml version=\"1.0\" encoding=\"utf-8\" standalone=\"yes\"?><response><count>0</count><pageno>3999</pageno><numofrows>1</numofrows><totalcount>3999</totalcount><resultcode>200</resultcode><resultmsg>NORMAL SERVICE</resultmsg><items><item><statsmetano>20140</statsmetano><centernm>국립암센터</centernm><crityr>2017</crityr><ptage>65</ptage><ptsexcd>F</ptsexcd><statstrgtnm>내분비진단검사</statstrgtnm><ncsnmvl>4</ncsnmvl><wholncsdnmvl>136</wholncsdnmvl><ptcntnmvl>2</ptcntnmvl><wholptcntdnmvl>4</wholptcntdnmvl></item></items></response>\n"
     ]
    },
    {
     "name": "stderr",
     "output_type": "stream",
     "text": [
      "c:\\Users\\rimmo\\anaconda3\\envs\\s32x_final\\lib\\site-packages\\bs4\\builder\\__init__.py:545: XMLParsedAsHTMLWarning: It looks like you're parsing an XML document using an HTML parser. If this really is an HTML document (maybe it's XHTML?), you can ignore or filter this warning. If it's XML, you should know that using an XML parser will be more reliable. To parse this document as XML, make sure you have the lxml package installed, and pass the keyword argument `features=\"xml\"` into the BeautifulSoup constructor.\n",
      "  warnings.warn(\n"
     ]
    }
   ],
   "source": [
    "response = requests.get(url, verify=False)\n",
    "# response = requests.get(url, verify=False)\n",
    "# response = requests.get(url, params=params, verify=True)\n",
    "# response = requests.get(url, params=params, verify=False)\n",
    "soup = BeautifulSoup(response.content, 'html.parser')\n",
    "result = soup.find('item')\n",
    "\n",
    "print(soup)"
   ]
  },
  {
   "cell_type": "code",
   "execution_count": 21,
   "metadata": {},
   "outputs": [
    {
     "name": "stdout",
     "output_type": "stream",
     "text": [
      "<?xml version=\"1.0\" encoding=\"utf-8\" standalone=\"yes\"?><response><count>0</count><pageno>3999</pageno><numofrows>1</numofrows><totalcount>3999</totalcount><resultcode>200</resultcode><resultmsg>NORMAL SERVICE</resultmsg><items><item><statsmetano>20140</statsmetano><centernm>국립암센터</centernm><crityr>2017</crityr><ptage>65</ptage><ptsexcd>F</ptsexcd><statstrgtnm>내분비진단검사</statstrgtnm><ncsnmvl>4</ncsnmvl><wholncsdnmvl>136</wholncsdnmvl><ptcntnmvl>2</ptcntnmvl><wholptcntdnmvl>4</wholptcntdnmvl></item></items></response>\n",
      "<statsmetano>20140</statsmetano>\n",
      "<centernm>국립암센터</centernm>\n",
      "<crityr>2017</crityr>\n",
      "<ptage>65</ptage>\n",
      "<ptsexcd>F</ptsexcd>\n",
      "<statstrgtnm>내분비진단검사</statstrgtnm>\n",
      "<ncsnmvl>4</ncsnmvl>\n",
      "<wholncsdnmvl>136</wholncsdnmvl>\n",
      "<ptcntnmvl>2</ptcntnmvl>\n",
      "<wholptcntdnmvl>4</wholptcntdnmvl>\n"
     ]
    }
   ],
   "source": [
    "print(soup)\n",
    "\n",
    "for data in result:\n",
    "    print(data)"
   ]
  }
 ],
 "metadata": {
  "kernelspec": {
   "display_name": "s32x_final",
   "language": "python",
   "name": "python3"
  },
  "language_info": {
   "codemirror_mode": {
    "name": "ipython",
    "version": 3
   },
   "file_extension": ".py",
   "mimetype": "text/x-python",
   "name": "python",
   "nbconvert_exporter": "python",
   "pygments_lexer": "ipython3",
   "version": "3.8.15"
  },
  "orig_nbformat": 4,
  "vscode": {
   "interpreter": {
    "hash": "81639b6c4dc76e4b2806f719b019c50bfad3d50afe67f35bcd7e68dd9d27d628"
   }
  }
 },
 "nbformat": 4,
 "nbformat_minor": 2
}
