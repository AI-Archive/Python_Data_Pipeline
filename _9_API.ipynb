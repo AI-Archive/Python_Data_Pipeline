{
 "cells": [
  {
   "attachments": {},
   "cell_type": "markdown",
   "metadata": {},
   "source": [
    "### N323 API 오후 세션 : 국립암센터 API\n",
    "https://www.data.go.kr/data/15096405/openapi.do"
   ]
  },
  {
   "cell_type": "code",
   "execution_count": 67,
   "metadata": {},
   "outputs": [],
   "source": [
    "import requests\n",
    "from bs4 import BeautifulSoup\n",
    "# from requests.packages.urllib3.exceptions import InsecureRequestWarning\n",
    "from requests.packages.urllib3.exceptions import InsecureRequestWarning\n"
   ]
  },
  {
   "cell_type": "code",
   "execution_count": 76,
   "metadata": {},
   "outputs": [
    {
     "name": "stdout",
     "output_type": "stream",
     "text": [
      "json\n"
     ]
    }
   ],
   "source": [
    "import json\n",
    "\n",
    "# Open the JSON file\n",
    "with open('env.json', 'r') as f:\n",
    "  # Load the JSON data into a Python object\n",
    "  data = json.load(f)\n",
    "\n",
    "# Access the data as you would any Python object\n",
    "print(data['type'])"
   ]
  },
  {
   "cell_type": "code",
   "execution_count": null,
   "metadata": {},
   "outputs": [],
   "source": [
    "# url, params 구조는 오류 발생\n",
    "url = 'https://apis.data.go.kr/B551172/Pancreatic14/dtlExamByType'\n",
    "params = {'serviceKey' : data['serviceKey'],\n",
    "'type' : data['type'],\n",
    "'pageNo' : data['pageNo'],\n",
    "'numOfRows' : data['numOfRows'],\n",
    "'centerNm' : data['centerNm'],\n",
    "'fromYear' : data['fromYear'],\n",
    "'toYear' : data['toYear']}\n",
    "\n",
    "response = requests.get(url, params=params)"
   ]
  },
  {
   "cell_type": "code",
   "execution_count": null,
   "metadata": {},
   "outputs": [],
   "source": [
    "# 검증 오류 발생\n",
    "url = f\"https://apis.data.go.kr/B551172/Pancreatic14/dtlExamByType?serviceKey={data['serviceKey']}&type={data['type']}&pageNo={data['pageNo']}&numOfRows={data['numOfRows']}&centerNm={data['centerNm']}&fromYear={data['fromYear']}&toYear={data['toYear']}\"\n",
    "response = requests.get(url)"
   ]
  },
  {
   "cell_type": "code",
   "execution_count": 70,
   "metadata": {},
   "outputs": [
    {
     "name": "stderr",
     "output_type": "stream",
     "text": [
      "c:\\Users\\rimmo\\anaconda3\\envs\\s32x_final\\lib\\site-packages\\urllib3\\connectionpool.py:1045: InsecureRequestWarning: Unverified HTTPS request is being made to host 'apis.data.go.kr'. Adding certificate verification is strongly advised. See: https://urllib3.readthedocs.io/en/1.26.x/advanced-usage.html#ssl-warnings\n",
      "  warnings.warn(\n"
     ]
    }
   ],
   "source": [
    "# 검증 단계 넘기고 실행시 정상 처리됨\n",
    "url = f\"https://apis.data.go.kr/B551172/Pancreatic14/dtlExamByType?serviceKey={data['serviceKey']}&type={data['type']}&pageNo={data['pageNo']}&numOfRows={data['numOfRows']}&centerNm={data['centerNm']}&fromYear={data['fromYear']}&toYear={data['toYear']}\"\n",
    "# url = 'https://apis.data.go.kr/B551172/Pancreatic14/dtlExamByType?serviceKey=2XllO6V1ijRnl0ETNcNfWdg3YL7A8lXiN5AkUrk3S9GHx35m9SyjcfWUxCJSbmXWQh49%2BqdIEIEzpmHxqa481w%3D%3D&type=json&pageNo=1&numOfRows=10&centerNm=%EA%B5%AD%EB%A6%BD%EC%95%94%EC%84%BC%ED%84%B0&fromYear=2010&toYear=2019'\n",
    "response = requests.get(url, verify=False)"
   ]
  },
  {
   "cell_type": "code",
   "execution_count": 81,
   "metadata": {},
   "outputs": [],
   "source": [
    "# url 조합을 수동적으로 처리해보자.\n",
    "def SetURL(**kwargs):\n",
    "    baseURL = 'https://apis.data.go.kr/B551172/Pancreatic14/dtlExamByType?'\n",
    "\n",
    "    url = baseURL\n",
    "\n",
    "    for key, value in kwargs.items():\n",
    "        arg = f'{key}={value}&'\n",
    "        url += arg\n",
    "        # print(f'{key} {value}')\n",
    "\n",
    "    url = url[:-1]\n",
    "    # print(url)\n",
    "\n",
    "    return url"
   ]
  },
  {
   "cell_type": "code",
   "execution_count": 82,
   "metadata": {},
   "outputs": [
    {
     "name": "stdout",
     "output_type": "stream",
     "text": [
      "https://apis.data.go.kr/B551172/Pancreatic14/dtlExamByType?serviceKey=2XllO6V1ijRnl0ETNcNfWdg3YL7A8lXiN5AkUrk3S9GHx35m9SyjcfWUxCJSbmXWQh49%2BqdIEIEzpmHxqa481w%3D%3D&type=json&pageNo=3999&numOfRows=1&centerNm=%EA%B5%AD%EB%A6%BD%EC%95%94%EC%84%BC%ED%84%B0&fromYear=2010&toYear=2019\n"
     ]
    },
    {
     "name": "stderr",
     "output_type": "stream",
     "text": [
      "c:\\Users\\rimmo\\anaconda3\\envs\\s32x_final\\lib\\site-packages\\urllib3\\connectionpool.py:1045: InsecureRequestWarning: Unverified HTTPS request is being made to host 'apis.data.go.kr'. Adding certificate verification is strongly advised. See: https://urllib3.readthedocs.io/en/1.26.x/advanced-usage.html#ssl-warnings\n",
      "  warnings.warn(\n"
     ]
    }
   ],
   "source": [
    "url = SetURL(serviceKey=data['serviceKey'],\n",
    "type = data['type'],\n",
    "pageNo = data['pageNo'],\n",
    "numOfRows = data['numOfRows'],\n",
    "centerNm = data['centerNm'],\n",
    "fromYear = data['fromYear'],\n",
    "toYear = data['toYear'])\n",
    "\n",
    "response = requests.get(url, verify=False)"
   ]
  },
  {
   "cell_type": "code",
   "execution_count": 80,
   "metadata": {},
   "outputs": [
    {
     "name": "stdout",
     "output_type": "stream",
     "text": [
      "<?xml version=\"1.0\" encoding=\"utf-8\" standalone=\"yes\"?><response><count>0</count><pageno>3999</pageno><numofrows>1</numofrows><totalcount>3999</totalcount><resultcode>200</resultcode><resultmsg>NORMAL SERVICE</resultmsg><items><item><statsmetano>20140</statsmetano><centernm>국립암센터</centernm><crityr>2017</crityr><ptage>65</ptage><ptsexcd>F</ptsexcd><statstrgtnm>내분비진단검사</statstrgtnm><ncsnmvl>4</ncsnmvl><wholncsdnmvl>136</wholncsdnmvl><ptcntnmvl>2</ptcntnmvl><wholptcntdnmvl>4</wholptcntdnmvl></item></items></response>\n"
     ]
    }
   ],
   "source": [
    "soup = BeautifulSoup(response.content, 'html.parser')\n",
    "result = soup.find('item')\n",
    "\n",
    "print(soup)"
   ]
  },
  {
   "cell_type": "code",
   "execution_count": 58,
   "metadata": {},
   "outputs": [
    {
     "name": "stdout",
     "output_type": "stream",
     "text": [
      "{\"response\":{\"count\":0,\"pageNo\":3999,\"numOfRows\":1,\"totalCount\":3999,\"resultCode\":200,\"resultMsg\":\"NORMAL SERVICE\",\"items\":{\"item\":{\"statsMetaNo\":20140,\"centerNm\":\"국립암센터\",\"critYr\":2017,\"ptAge\":65,\"ptSexCd\":\"F\",\"statsTrgtNm\":\"내분비진단검사\",\"ncsNmvl\":4,\"wholNcsDnmvl\":136,\"ptCntNmvl\":2,\"wholPtCntDnmvl\":4}}}}\n"
     ]
    },
    {
     "ename": "TypeError",
     "evalue": "'NoneType' object is not iterable",
     "output_type": "error",
     "traceback": [
      "\u001b[1;31m---------------------------------------------------------------------------\u001b[0m",
      "\u001b[1;31mTypeError\u001b[0m                                 Traceback (most recent call last)",
      "Cell \u001b[1;32mIn[58], line 3\u001b[0m\n\u001b[0;32m      1\u001b[0m \u001b[39mprint\u001b[39m(soup)\n\u001b[1;32m----> 3\u001b[0m \u001b[39mfor\u001b[39;00m data \u001b[39min\u001b[39;00m result:\n\u001b[0;32m      4\u001b[0m     \u001b[39mprint\u001b[39m(data)\n",
      "\u001b[1;31mTypeError\u001b[0m: 'NoneType' object is not iterable"
     ]
    }
   ],
   "source": [
    "print(soup)\n",
    "\n",
    "for data in result:\n",
    "    print(data)"
   ]
  }
 ],
 "metadata": {
  "kernelspec": {
   "display_name": "s32x_final",
   "language": "python",
   "name": "python3"
  },
  "language_info": {
   "codemirror_mode": {
    "name": "ipython",
    "version": 3
   },
   "file_extension": ".py",
   "mimetype": "text/x-python",
   "name": "python",
   "nbconvert_exporter": "python",
   "pygments_lexer": "ipython3",
   "version": "3.8.15"
  },
  "orig_nbformat": 4,
  "vscode": {
   "interpreter": {
    "hash": "81639b6c4dc76e4b2806f719b019c50bfad3d50afe67f35bcd7e68dd9d27d628"
   }
  }
 },
 "nbformat": 4,
 "nbformat_minor": 2
}
