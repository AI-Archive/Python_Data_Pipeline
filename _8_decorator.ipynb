{
 "cells": [
  {
   "cell_type": "code",
   "execution_count": 1,
   "metadata": {},
   "outputs": [],
   "source": [
    "def my():\n",
    "    print(\"first\")\n",
    "    print(\"my 라는 함수\")"
   ]
  },
  {
   "cell_type": "code",
   "execution_count": 3,
   "metadata": {},
   "outputs": [
    {
     "name": "stdout",
     "output_type": "stream",
     "text": [
      "first\n",
      "my 라는 함수\n"
     ]
    }
   ],
   "source": [
    "my()"
   ]
  },
  {
   "cell_type": "code",
   "execution_count": 4,
   "metadata": {},
   "outputs": [],
   "source": [
    "def my():\n",
    "    print(\"first\")\n",
    "    print(\"my 라는 함수입니다.\")\n",
    "\n",
    "def mine():\n",
    "    print(\"first\")\n",
    "    print(\"mine 이라는 함수입니다.\")\n",
    "\n",
    "def iam():\n",
    "    print(\"first\")\n",
    "    print(\"iam 이라는 함수입니다.\")"
   ]
  },
  {
   "cell_type": "code",
   "execution_count": 5,
   "metadata": {},
   "outputs": [
    {
     "name": "stdout",
     "output_type": "stream",
     "text": [
      "first\n",
      "my 라는 함수입니다.\n",
      "first\n",
      "mine 이라는 함수입니다.\n",
      "first\n",
      "iam 이라는 함수입니다.\n"
     ]
    }
   ],
   "source": [
    "my()\n",
    "mine()\n",
    "iam()"
   ]
  },
  {
   "cell_type": "code",
   "execution_count": 10,
   "metadata": {},
   "outputs": [],
   "source": [
    "def first_deco(func):\n",
    "    def first():\n",
    "        print(\"first\")\n",
    "        func()\n",
    "    return first\n",
    "\n",
    "@first_deco\n",
    "def my():\n",
    "    print(\"my 라는 함수입니다.\")\n",
    "\n",
    "@first_deco\n",
    "def mine():\n",
    "    print(\"mine 이라는 함수입니다.\")\n",
    "\n",
    "@first_deco\n",
    "def iam():\n",
    "    print(\"iam 이라는 함수입니다.\")"
   ]
  },
  {
   "cell_type": "code",
   "execution_count": 11,
   "metadata": {},
   "outputs": [
    {
     "name": "stdout",
     "output_type": "stream",
     "text": [
      "first\n",
      "my 라는 함수입니다.\n",
      "first\n",
      "mine 이라는 함수입니다.\n",
      "first\n",
      "iam 이라는 함수입니다.\n"
     ]
    }
   ],
   "source": [
    "my()\n",
    "mine()\n",
    "iam()"
   ]
  },
  {
   "attachments": {},
   "cell_type": "markdown",
   "metadata": {},
   "source": [
    "---"
   ]
  },
  {
   "attachments": {},
   "cell_type": "markdown",
   "metadata": {},
   "source": [
    "- 데코레이터의 함수 호출 순서는 어떻게 될까?\n",
    "- 에러를 유도해서 함수의 호출 순서를 알아보자"
   ]
  },
  {
   "cell_type": "code",
   "execution_count": 12,
   "metadata": {},
   "outputs": [],
   "source": [
    "def first_deco(func):\n",
    "    def first():\n",
    "        print(\"first\")\n",
    "        func()\n",
    "    return first\n",
    "\n",
    "# 함수에 파라미터 하나만 넣어보기\n",
    "@first_deco\n",
    "def my(value):\n",
    "    print(\"my 라는 함수입니다.\")"
   ]
  },
  {
   "cell_type": "code",
   "execution_count": 16,
   "metadata": {},
   "outputs": [
    {
     "name": "stdout",
     "output_type": "stream",
     "text": [
      "first\n"
     ]
    },
    {
     "ename": "TypeError",
     "evalue": "my() missing 1 required positional argument: 'value'",
     "output_type": "error",
     "traceback": [
      "\u001b[1;31m---------------------------------------------------------------------------\u001b[0m",
      "\u001b[1;31mTypeError\u001b[0m                                 Traceback (most recent call last)",
      "\u001b[1;32m~\\AppData\\Local\\Temp\\ipykernel_31560\\876141270.py\u001b[0m in \u001b[0;36m<module>\u001b[1;34m\u001b[0m\n\u001b[0;32m      1\u001b[0m \u001b[1;31m# 파라미터 추가한 것에 대응하지 않고 함수 호출해보기\u001b[0m\u001b[1;33m\u001b[0m\u001b[1;33m\u001b[0m\u001b[0m\n\u001b[1;32m----> 2\u001b[1;33m \u001b[0mmy\u001b[0m\u001b[1;33m(\u001b[0m\u001b[1;33m)\u001b[0m\u001b[1;33m\u001b[0m\u001b[1;33m\u001b[0m\u001b[0m\n\u001b[0m",
      "\u001b[1;32m~\\AppData\\Local\\Temp\\ipykernel_31560\\3900477493.py\u001b[0m in \u001b[0;36mfirst\u001b[1;34m()\u001b[0m\n\u001b[0;32m      2\u001b[0m     \u001b[1;32mdef\u001b[0m \u001b[0mfirst\u001b[0m\u001b[1;33m(\u001b[0m\u001b[1;33m)\u001b[0m\u001b[1;33m:\u001b[0m\u001b[1;33m\u001b[0m\u001b[1;33m\u001b[0m\u001b[0m\n\u001b[0;32m      3\u001b[0m         \u001b[0mprint\u001b[0m\u001b[1;33m(\u001b[0m\u001b[1;34m\"first\"\u001b[0m\u001b[1;33m)\u001b[0m\u001b[1;33m\u001b[0m\u001b[1;33m\u001b[0m\u001b[0m\n\u001b[1;32m----> 4\u001b[1;33m         \u001b[0mfunc\u001b[0m\u001b[1;33m(\u001b[0m\u001b[1;33m)\u001b[0m\u001b[1;33m\u001b[0m\u001b[1;33m\u001b[0m\u001b[0m\n\u001b[0m\u001b[0;32m      5\u001b[0m     \u001b[1;32mreturn\u001b[0m \u001b[0mfirst\u001b[0m\u001b[1;33m\u001b[0m\u001b[1;33m\u001b[0m\u001b[0m\n\u001b[0;32m      6\u001b[0m \u001b[1;33m\u001b[0m\u001b[0m\n",
      "\u001b[1;31mTypeError\u001b[0m: my() missing 1 required positional argument: 'value'"
     ]
    }
   ],
   "source": [
    "# 파라미터 추가한 것에 대응하지 않고 함수 호출해보기\n",
    "my()"
   ]
  },
  {
   "attachments": {},
   "cell_type": "markdown",
   "metadata": {},
   "source": [
    "- 확인결과 호출 순서는 다음과 같다.\n",
    "- 1 my() 함수 호출\n",
    "- 2 decorator 함수인 first_deco 영역으로 진입\n",
    "- 3 decorator first_deco 함수에서 first 함수를 받아온다.\n",
    "- 4 받아온 first 함수를 my() 함수 호출 위치에서 실행한다."
   ]
  },
  {
   "attachments": {},
   "cell_type": "markdown",
   "metadata": {},
   "source": [
    "---"
   ]
  },
  {
   "cell_type": "code",
   "execution_count": 36,
   "metadata": {},
   "outputs": [],
   "source": [
    "def first_deco(func):\n",
    "    # 함수에 파라미터 같이 넣어주기\n",
    "    def first(value):\n",
    "        print(\"first\")\n",
    "        func(value)     # 함수에 인자값 같이 넣어주기\n",
    "    return first\n",
    "\n",
    "# 함수에 파라미터 하나만 넣어보기\n",
    "@first_deco\n",
    "def my(value):\n",
    "    print(\"my 라는 함수입니다.\")"
   ]
  },
  {
   "cell_type": "code",
   "execution_count": 30,
   "metadata": {},
   "outputs": [
    {
     "name": "stdout",
     "output_type": "stream",
     "text": [
      "first\n",
      "my 라는 함수입니다.\n"
     ]
    }
   ],
   "source": [
    "my(123)"
   ]
  },
  {
   "attachments": {},
   "cell_type": "markdown",
   "metadata": {},
   "source": [
    "- decorator가 붙은 함수는 자기 자신 (예시에서 my(value))를 하나의 인자로 정의된다.\n",
    "- 함수 인자는 decorator 목적지로 전달된다 \n",
    "    - (예시에서 first_deco decorator로 이동)\n",
    "    - (예시에서 func 파라미터에 함수 my(value) 전달)"
   ]
  },
  {
   "cell_type": "code",
   "execution_count": 58,
   "metadata": {},
   "outputs": [
    {
     "name": "stdout",
     "output_type": "stream",
     "text": [
      "add function stanby\n",
      "add function ready\n",
      "sub function stanby\n",
      "sub function ready\n",
      "mul function stanby\n",
      "mul function ready\n",
      "div function stanby\n",
      "div function ready\n"
     ]
    }
   ],
   "source": [
    "def output(func):\n",
    "    print(f\"{func.__name__} function stanby\")\n",
    "\n",
    "    def function(op1, op2):\n",
    "        print(\"start function\")\n",
    "        value = func(op1, op2)\n",
    "        print(\"end function\")\n",
    "        print(value)\n",
    "        print()\n",
    "        \n",
    "        print(\"start function\")\n",
    "        value = func(func(op1, op2), op2)\n",
    "        print(\"end function\")\n",
    "        print(value)\n",
    "        \n",
    "    print(f\"{func.__name__} function ready\")\n",
    "    return function\n",
    "\n",
    "@output\n",
    "def add(op1, op2):\n",
    "    print('add')\n",
    "    return op1 + op2\n",
    "\n",
    "@output\n",
    "def sub(op1, op2):\n",
    "    print('sub')\n",
    "    return op1 - op2\n",
    "\n",
    "@output\n",
    "def mul(op1, op2):\n",
    "    print('mul')\n",
    "    return op1 * op2\n",
    "\n",
    "@output\n",
    "def div(op1, op2):\n",
    "    print('div')\n",
    "    return op1 / op2"
   ]
  },
  {
   "attachments": {},
   "cell_type": "markdown",
   "metadata": {},
   "source": [
    "- 데코레이터의 동작은 함수 정의 단계에서 실행된다."
   ]
  },
  {
   "cell_type": "code",
   "execution_count": 55,
   "metadata": {},
   "outputs": [
    {
     "name": "stdout",
     "output_type": "stream",
     "text": [
      "start function\n",
      "add\n",
      "end function\n",
      "21\n",
      "\n",
      "start function\n",
      "add\n",
      "add\n",
      "end function\n",
      "32\n"
     ]
    }
   ],
   "source": [
    "add(10, 11)"
   ]
  },
  {
   "attachments": {},
   "cell_type": "markdown",
   "metadata": {},
   "source": [
    "- 함수 호출시 사전에 동작한 데코레이터의 동작 흐름에 따라 함수가 실행된다."
   ]
  },
  {
   "cell_type": "markdown",
   "metadata": {},
   "source": []
  }
 ],
 "metadata": {
  "kernelspec": {
   "display_name": "base",
   "language": "python",
   "name": "python3"
  },
  "language_info": {
   "codemirror_mode": {
    "name": "ipython",
    "version": 3
   },
   "file_extension": ".py",
   "mimetype": "text/x-python",
   "name": "python",
   "nbconvert_exporter": "python",
   "pygments_lexer": "ipython3",
   "version": "3.9.15 (main, Nov 24 2022, 14:39:17) [MSC v.1916 64 bit (AMD64)]"
  },
  "orig_nbformat": 4,
  "vscode": {
   "interpreter": {
    "hash": "1bacc43f3a5794ff21941cbe3bd67ad18cddb0ff963b4f1013ddec33c94b376d"
   }
  }
 },
 "nbformat": 4,
 "nbformat_minor": 2
}
