{
 "cells": [
  {
   "attachments": {},
   "cell_type": "markdown",
   "metadata": {},
   "source": [
    "### 프로퍼티\n",
    "- 변수의 역할을 하나의 심볼(Symbol)로 접근할 수 있도록 하고\n",
    "- 기능별로 구현 가능한 코드 구역을 아래 3개의 기능별로 나누어준다.\n",
    "- (변수값 가져오기, 변수값 할당, 변수 제거)"
   ]
  },
  {
   "cell_type": "code",
   "execution_count": 1,
   "metadata": {},
   "outputs": [],
   "source": [
    "class nClass1:\n",
    "    \n",
    "    # 프로퍼티 심볼로 쓸 함수명은 반드시 한 번 사용해야 한다.\n",
    "    # property 데코레이터가 붙은 함수는 getter의 속성으로도 사용할 수 있습니다.\n",
    "    @property\n",
    "    def Entity1(self):\n",
    "        print(\"property 구역\")\n",
    "        self.data1 = 12"
   ]
  },
  {
   "cell_type": "code",
   "execution_count": 2,
   "metadata": {},
   "outputs": [
    {
     "name": "stdout",
     "output_type": "stream",
     "text": [
      "property 구역\n",
      "None\n"
     ]
    }
   ],
   "source": [
    "inst1 = nClass1()\n",
    "print(inst1.Entity1)    # 단순 프로퍼티 정의는 getter 역할도 가능하다"
   ]
  },
  {
   "cell_type": "code",
   "execution_count": 3,
   "metadata": {},
   "outputs": [
    {
     "ename": "AttributeError",
     "evalue": "can't set attribute",
     "output_type": "error",
     "traceback": [
      "\u001b[1;31m---------------------------------------------------------------------------\u001b[0m",
      "\u001b[1;31mAttributeError\u001b[0m                            Traceback (most recent call last)",
      "Cell \u001b[1;32mIn[3], line 2\u001b[0m\n\u001b[0;32m      1\u001b[0m inst1 \u001b[39m=\u001b[39m nClass1()\n\u001b[1;32m----> 2\u001b[0m inst1\u001b[39m.\u001b[39mEntity1 \u001b[39m=\u001b[39m \u001b[39m10\u001b[39m\n",
      "\u001b[1;31mAttributeError\u001b[0m: can't set attribute"
     ]
    }
   ],
   "source": [
    "inst1 = nClass1()\n",
    "inst1.Entity1 = 10  # 프로퍼티에 setter를 명시하지 않으면 오류가 발생한다."
   ]
  },
  {
   "cell_type": "code",
   "execution_count": 4,
   "metadata": {},
   "outputs": [],
   "source": [
    "class nClass2:\n",
    "    def __init__(self):\n",
    "        self.data = 0\n",
    "\n",
    "    @property\n",
    "    def Ent2(self):\n",
    "        print(\"property 구역\")\n",
    "        # self.data = value\n",
    "        return self.data\n",
    "\n",
    "    @Ent2.setter\n",
    "    def Ent2(self, value):\n",
    "        print(\"setter 구역\")\n",
    "        self.data = value"
   ]
  },
  {
   "cell_type": "code",
   "execution_count": 5,
   "metadata": {},
   "outputs": [
    {
     "name": "stdout",
     "output_type": "stream",
     "text": [
      "setter 구역\n",
      "property 구역\n",
      "13\n"
     ]
    }
   ],
   "source": [
    "inst2 = nClass2()\n",
    "inst2.Ent2 = 13      # setter 정상 동작\n",
    "print(inst2.Ent2)    # property(getter) 정상 동작\n"
   ]
  },
  {
   "cell_type": "code",
   "execution_count": 7,
   "metadata": {},
   "outputs": [],
   "source": [
    "class nClass3:\n",
    "    def __init__(self):\n",
    "        self.data = 0\n",
    "\n",
    "    @property\n",
    "    def Ent3(self):\n",
    "        print(\"property 구역\")\n",
    "\n",
    "    # getter도 따로 지정할 수 있습니다.\n",
    "    @Ent3.getter\n",
    "    def Ent3(self):\n",
    "        print(\"getter 구역\")\n",
    "        return self.data\n",
    "\n",
    "    @Ent3.setter\n",
    "    def Ent3(self, value):\n",
    "        print(\"setter 구역\")\n",
    "        self.data = value"
   ]
  },
  {
   "cell_type": "code",
   "execution_count": 8,
   "metadata": {},
   "outputs": [
    {
     "name": "stdout",
     "output_type": "stream",
     "text": [
      "setter 구역\n",
      "getter 구역\n",
      "14\n"
     ]
    }
   ],
   "source": [
    "inst3 = nClass3()\n",
    "inst3.Ent3 = 14     # setter 정상 동작\n",
    "print(inst3.Ent3)   # getter 정상 동작"
   ]
  },
  {
   "cell_type": "code",
   "execution_count": 10,
   "metadata": {},
   "outputs": [],
   "source": [
    "# 1. 흐름 정의\n",
    "# 2. 할당(set), 호출(get)에 관한 추가 동작 정의\n",
    "class Exam:\n",
    "    def __init__(self):\n",
    "        self._score = 0\n",
    "        self._grade = ''\n",
    "\n",
    "    @property\n",
    "    def score(self):\n",
    "        pass\n",
    "        print(\"score property\")\n",
    "\n",
    "    @score.getter\n",
    "    def score(self):\n",
    "        return None\n",
    "        print(\"score getter\")\n",
    "        # return self._score\n",
    "\n",
    "    @score.setter\n",
    "    def score(self, value):\n",
    "        print(\"score setter\")\n",
    "        self._score = value\n",
    "\n",
    "        if value > 95:\n",
    "            self._grade = \"A+\"\n",
    "        elif value > 90:\n",
    "            self._grade = \"A\"\n",
    "        elif value > 85:\n",
    "            self._grade = \"B+\"\n",
    "        elif value > 80:\n",
    "            self._grade = \"B\"\n",
    "        elif value > 75:\n",
    "            self._grade = \"C+\"\n",
    "        elif value > 70:\n",
    "            self._grade = \"C\"\n",
    "        else:\n",
    "            self._grade = \"F\"\n",
    "    \n",
    "    @property\n",
    "    def grade(self):\n",
    "        pass\n",
    "        print(\"grade property\")\n",
    "\n",
    "    @grade.getter\n",
    "    def grade(self):\n",
    "        print(\"grade getter\")\n",
    "        return self._grade"
   ]
  },
  {
   "cell_type": "code",
   "execution_count": 11,
   "metadata": {},
   "outputs": [
    {
     "name": "stdout",
     "output_type": "stream",
     "text": [
      "score setter\n",
      "None\n",
      "\n",
      "grade getter\n",
      "B+\n"
     ]
    },
    {
     "ename": "AttributeError",
     "evalue": "can't set attribute",
     "output_type": "error",
     "traceback": [
      "\u001b[1;31m---------------------------------------------------------------------------\u001b[0m",
      "\u001b[1;31mAttributeError\u001b[0m                            Traceback (most recent call last)",
      "Cell \u001b[1;32mIn[11], line 6\u001b[0m\n\u001b[0;32m      4\u001b[0m \u001b[39mprint\u001b[39m()\n\u001b[0;32m      5\u001b[0m \u001b[39mprint\u001b[39m(exam\u001b[39m.\u001b[39mgrade)   \u001b[39m# grade getter는 반환값이 정의되었다.\u001b[39;00m\n\u001b[1;32m----> 6\u001b[0m exam\u001b[39m.\u001b[39mgrade \u001b[39m=\u001b[39m \u001b[39m'\u001b[39m\u001b[39mB\u001b[39m\u001b[39m'\u001b[39m\n",
      "\u001b[1;31mAttributeError\u001b[0m: can't set attribute"
     ]
    }
   ],
   "source": [
    "exam = Exam()\n",
    "exam.score = 90     # score setter는 정의된대로 동작한다.\n",
    "print(exam.score)   # score getter는 반환값이 없다. (흐름 정의)\n",
    "print()\n",
    "print(exam.grade)   # grade getter는 반환값이 정의되었다.\n",
    "exam.grade = 'B'    # Attribute Error : grade setter는 정의되지 않아 오류 발생"
   ]
  }
 ],
 "metadata": {
  "kernelspec": {
   "display_name": "s32x_final",
   "language": "python",
   "name": "python3"
  },
  "language_info": {
   "codemirror_mode": {
    "name": "ipython",
    "version": 3
   },
   "file_extension": ".py",
   "mimetype": "text/x-python",
   "name": "python",
   "nbconvert_exporter": "python",
   "pygments_lexer": "ipython3",
   "version": "3.8.15"
  },
  "orig_nbformat": 4,
  "vscode": {
   "interpreter": {
    "hash": "81639b6c4dc76e4b2806f719b019c50bfad3d50afe67f35bcd7e68dd9d27d628"
   }
  }
 },
 "nbformat": 4,
 "nbformat_minor": 2
}
